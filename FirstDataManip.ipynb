{
 "metadata": {
  "language_info": {
   "codemirror_mode": {
    "name": "ipython",
    "version": 3
   },
   "file_extension": ".py",
   "mimetype": "text/x-python",
   "name": "python",
   "nbconvert_exporter": "python",
   "pygments_lexer": "ipython3",
   "version": "3.8.5-final"
  },
  "orig_nbformat": 2,
  "kernelspec": {
   "name": "python_defaultSpec_1597346929804",
   "display_name": "Python 3.8.5 64-bit"
  }
 },
 "nbformat": 4,
 "nbformat_minor": 2,
 "cells": [
  {
   "cell_type": "code",
   "execution_count": 22,
   "metadata": {},
   "outputs": [],
   "source": [
    "import numpy as np # imports a fast numerical programming library\n",
    "import scipy as sp #imports stats functions, amongst other things\n",
    "import matplotlib as mpl # this actually imports matplotlib\n",
    "import matplotlib.cm as cm #allows us easy access to colormaps\n",
    "import matplotlib.pyplot as plt #sets up plotting under plt\n",
    "import pandas as pd #lets us handle data as dataframes\n",
    "import seaborn as sns\n",
    "%matplotlib inline "
   ]
  },
  {
   "cell_type": "code",
   "execution_count": 23,
   "metadata": {},
   "outputs": [],
   "source": [
    "pd.set_option('display.width', 500)\n",
    "pd.set_option('display.max_columns', 100)\n",
    "pd.set_option('display.notebook_repr_html', True)"
   ]
  },
  {
   "cell_type": "code",
   "execution_count": 24,
   "metadata": {},
   "outputs": [],
   "source": [
    "df = pd.read_csv(\"../DataSamples/all.csv\", header=None,\n",
    "               names=[\"rating\", 'review_count', 'isbn', 'booktype','author_url', 'year', 'genre_urls', 'dir','rating_count', 'name'],\n",
    ")"
   ]
  },
  {
   "cell_type": "code",
   "execution_count": 25,
   "metadata": {
    "tags": []
   },
   "outputs": [
    {
     "output_type": "execute_result",
     "data": {
      "text/plain": "rating          float64\nreview_count     object\nisbn             object\nbooktype         object\nauthor_url       object\nyear            float64\ngenre_urls       object\ndir              object\nrating_count     object\nname             object\ndtype: object"
     },
     "metadata": {},
     "execution_count": 25
    }
   ],
   "source": [
    "df.dtypes\n"
   ]
  },
  {
   "cell_type": "code",
   "execution_count": 26,
   "metadata": {
    "tags": []
   },
   "outputs": [
    {
     "output_type": "execute_result",
     "data": {
      "text/plain": "(6000, 10)"
     },
     "metadata": {},
     "execution_count": 26
    }
   ],
   "source": [
    "df.shape"
   ]
  },
  {
   "cell_type": "code",
   "execution_count": 16,
   "metadata": {
    "tags": []
   },
   "outputs": [
    {
     "output_type": "stream",
     "name": "stdout",
     "text": "Index(['rating', 'review_count', 'isbn', 'booktype', 'author_url', 'year', 'genre_urls', 'dir', 'rating_count', 'name'], dtype='object')\n"
    }
   ],
   "source": []
  },
  {
   "cell_type": "code",
   "execution_count": 27,
   "metadata": {
    "tags": []
   },
   "outputs": [
    {
     "output_type": "execute_result",
     "data": {
      "text/plain": "(6000, 10)"
     },
     "metadata": {},
     "execution_count": 27
    }
   ],
   "source": [
    "df.shape[0], df.shape[1]"
   ]
  },
  {
   "cell_type": "code",
   "execution_count": 28,
   "metadata": {
    "tags": []
   },
   "outputs": [
    {
     "output_type": "execute_result",
     "data": {
      "text/plain": "0       4.40\n1       4.41\n2       3.56\n3       4.23\n4       4.23\n        ... \n5995    4.17\n5996    3.99\n5997    3.78\n5998    3.91\n5999    4.35\nName: rating, Length: 6000, dtype: float64"
     },
     "metadata": {},
     "execution_count": 28
    }
   ],
   "source": [
    "df.rating"
   ]
  },
  {
   "cell_type": "code",
   "execution_count": 29,
   "metadata": {},
   "outputs": [
    {
     "output_type": "execute_result",
     "data": {
      "text/plain": "0       False\n1       False\n2       False\n3       False\n4       False\n        ...  \n5995    False\n5996    False\n5997    False\n5998    False\n5999    False\nName: rating, Length: 6000, dtype: bool"
     },
     "metadata": {},
     "execution_count": 29
    }
   ],
   "source": [
    "df.rating < 3"
   ]
  },
  {
   "cell_type": "code",
   "execution_count": 30,
   "metadata": {},
   "outputs": [],
   "source": [
    "subdf = df[df.rating < 3]"
   ]
  },
  {
   "cell_type": "code",
   "execution_count": 31,
   "metadata": {},
   "outputs": [
    {
     "output_type": "execute_result",
     "data": {
      "text/plain": "2609           NaN\n3738    0983650322\n5844    0395083621\n5979    0060988649\nName: isbn, dtype: object"
     },
     "metadata": {},
     "execution_count": 31
    }
   ],
   "source": [
    "subdf.isbn"
   ]
  },
  {
   "cell_type": "code",
   "execution_count": 32,
   "metadata": {},
   "outputs": [
    {
     "output_type": "execute_result",
     "data": {
      "text/plain": "0.0006666666666666666"
     },
     "metadata": {},
     "execution_count": 32
    }
   ],
   "source": [
    "(df.rating < 3).mean()"
   ]
  },
  {
   "cell_type": "code",
   "execution_count": 33,
   "metadata": {},
   "outputs": [
    {
     "output_type": "execute_result",
     "data": {
      "text/plain": "(4.04220073357786, 0.26066082128186757)"
     },
     "metadata": {},
     "execution_count": 33
    }
   ],
   "source": [
    "df.rating.mean(), df.rating.std()"
   ]
  },
  {
   "cell_type": "code",
   "execution_count": 34,
   "metadata": {},
   "outputs": [
    {
     "output_type": "execute_result",
     "data": {
      "text/plain": "      rating review_count        isbn         booktype                                         author_url   year                                         genre_urls                                               dir rating_count                             name\n246     4.01          365  0147712556  good_reads:book    https://www.goodreads.com/author/show/903.Homer -800.0  /genres/classics|/genres/fantasy|/genres/mytho...             dir03/1375.The_Iliad_The_Odyssey.html        35123            The Iliad/The Odyssey\n746     4.06         1087  0140449183  good_reads:book  https://www.goodreads.com/author/show/5158478.... -500.0  /genres/classics|/genres/spirituality|/genres/...                dir08/99944.The_Bhagavad_Gita.html        31634                The Bhagavad Gita\n1397    4.03          890  0192840509  good_reads:book  https://www.goodreads.com/author/show/12452.Aesop -560.0  /genres/classics|/genres/childrens|/genres/lit...                   dir14/21348.Aesop_s_Fables.html        71259                   Aesop's Fables\n1882    4.02          377  0872205541  good_reads:book    https://www.goodreads.com/author/show/879.Plato -400.0  /genres/philosophy|/genres/classics|/genres/no...  dir19/22632.The_Trial_and_Death_of_Socrates.html        18712  The Trial and Death of Socrates\n3133    4.30          131  0872203492  good_reads:book    https://www.goodreads.com/author/show/879.Plato -400.0  /genres/philosophy|/genres/classics|/genres/no...                    dir32/9462.Complete_Works.html         7454                   Complete Works\n4475    4.11          281  0865163480  good_reads:book    https://www.goodreads.com/author/show/879.Plato -390.0  /genres/philosophy|/genres/classics|/genres/no...                          dir45/73945.Apology.html        11478                          Apology\n5367    4.07          133  0872206335  good_reads:book    https://www.goodreads.com/author/show/879.Plato -360.0  /genres/philosophy|/genres/classics|/genres/no...                   dir54/30292.Five_Dialogues.html         9964                   Five Dialogues",
      "text/html": "<div>\n<style scoped>\n    .dataframe tbody tr th:only-of-type {\n        vertical-align: middle;\n    }\n\n    .dataframe tbody tr th {\n        vertical-align: top;\n    }\n\n    .dataframe thead th {\n        text-align: right;\n    }\n</style>\n<table border=\"1\" class=\"dataframe\">\n  <thead>\n    <tr style=\"text-align: right;\">\n      <th></th>\n      <th>rating</th>\n      <th>review_count</th>\n      <th>isbn</th>\n      <th>booktype</th>\n      <th>author_url</th>\n      <th>year</th>\n      <th>genre_urls</th>\n      <th>dir</th>\n      <th>rating_count</th>\n      <th>name</th>\n    </tr>\n  </thead>\n  <tbody>\n    <tr>\n      <th>246</th>\n      <td>4.01</td>\n      <td>365</td>\n      <td>0147712556</td>\n      <td>good_reads:book</td>\n      <td>https://www.goodreads.com/author/show/903.Homer</td>\n      <td>-800.0</td>\n      <td>/genres/classics|/genres/fantasy|/genres/mytho...</td>\n      <td>dir03/1375.The_Iliad_The_Odyssey.html</td>\n      <td>35123</td>\n      <td>The Iliad/The Odyssey</td>\n    </tr>\n    <tr>\n      <th>746</th>\n      <td>4.06</td>\n      <td>1087</td>\n      <td>0140449183</td>\n      <td>good_reads:book</td>\n      <td>https://www.goodreads.com/author/show/5158478....</td>\n      <td>-500.0</td>\n      <td>/genres/classics|/genres/spirituality|/genres/...</td>\n      <td>dir08/99944.The_Bhagavad_Gita.html</td>\n      <td>31634</td>\n      <td>The Bhagavad Gita</td>\n    </tr>\n    <tr>\n      <th>1397</th>\n      <td>4.03</td>\n      <td>890</td>\n      <td>0192840509</td>\n      <td>good_reads:book</td>\n      <td>https://www.goodreads.com/author/show/12452.Aesop</td>\n      <td>-560.0</td>\n      <td>/genres/classics|/genres/childrens|/genres/lit...</td>\n      <td>dir14/21348.Aesop_s_Fables.html</td>\n      <td>71259</td>\n      <td>Aesop's Fables</td>\n    </tr>\n    <tr>\n      <th>1882</th>\n      <td>4.02</td>\n      <td>377</td>\n      <td>0872205541</td>\n      <td>good_reads:book</td>\n      <td>https://www.goodreads.com/author/show/879.Plato</td>\n      <td>-400.0</td>\n      <td>/genres/philosophy|/genres/classics|/genres/no...</td>\n      <td>dir19/22632.The_Trial_and_Death_of_Socrates.html</td>\n      <td>18712</td>\n      <td>The Trial and Death of Socrates</td>\n    </tr>\n    <tr>\n      <th>3133</th>\n      <td>4.30</td>\n      <td>131</td>\n      <td>0872203492</td>\n      <td>good_reads:book</td>\n      <td>https://www.goodreads.com/author/show/879.Plato</td>\n      <td>-400.0</td>\n      <td>/genres/philosophy|/genres/classics|/genres/no...</td>\n      <td>dir32/9462.Complete_Works.html</td>\n      <td>7454</td>\n      <td>Complete Works</td>\n    </tr>\n    <tr>\n      <th>4475</th>\n      <td>4.11</td>\n      <td>281</td>\n      <td>0865163480</td>\n      <td>good_reads:book</td>\n      <td>https://www.goodreads.com/author/show/879.Plato</td>\n      <td>-390.0</td>\n      <td>/genres/philosophy|/genres/classics|/genres/no...</td>\n      <td>dir45/73945.Apology.html</td>\n      <td>11478</td>\n      <td>Apology</td>\n    </tr>\n    <tr>\n      <th>5367</th>\n      <td>4.07</td>\n      <td>133</td>\n      <td>0872206335</td>\n      <td>good_reads:book</td>\n      <td>https://www.goodreads.com/author/show/879.Plato</td>\n      <td>-360.0</td>\n      <td>/genres/philosophy|/genres/classics|/genres/no...</td>\n      <td>dir54/30292.Five_Dialogues.html</td>\n      <td>9964</td>\n      <td>Five Dialogues</td>\n    </tr>\n  </tbody>\n</table>\n</div>"
     },
     "metadata": {},
     "execution_count": 34
    }
   ],
   "source": [
    "df[(df.year < 2) & (df.rating > 4)]"
   ]
  },
  {
   "cell_type": "code",
   "execution_count": 35,
   "metadata": {},
   "outputs": [],
   "source": [
    "# df[\"rating\"] = df.rating"
   ]
  },
  {
   "cell_type": "code",
   "execution_count": 36,
   "metadata": {},
   "outputs": [
    {
     "output_type": "execute_result",
     "data": {
      "text/plain": "      rating review_count        isbn         booktype                                         author_url  year                                         genre_urls                                                dir rating_count                                               name\n2442    4.23          526         NaN  good_reads:book  https://www.goodreads.com/author/show/623606.A...   NaN  /genres/religion|/genres/islam|/genres/non-fic...                       dir25/1301625.La_Tahzan.html         4134                                          La Tahzan\n2869    4.61            2         NaN  good_reads:book  https://www.goodreads.com/author/show/8182217....   NaN                                                NaN  dir29/22031070-my-death-experiences---a-preach...           23  My Death Experiences - A Preacherâs 18 Apoca...\n3643     NaN         None        None             None                                               None   NaN                                                NaN                    dir37/9658936-harry-potter.html         None                                               None\n5282     NaN         None        None             None                                               None   NaN                                                NaN                       dir53/113138.The_Winner.html         None                                               None\n5572    3.71           35  8423336603  good_reads:book  https://www.goodreads.com/author/show/285658.E...   NaN                                    /genres/fiction  dir56/890680._rase_una_vez_el_amor_pero_tuve_q...          403  Ãrase una vez el amor pero tuve que matarlo. ...\n5658    4.32           44         NaN  good_reads:book  https://www.goodreads.com/author/show/25307.Ro...   NaN  /genres/fantasy|/genres/fantasy|/genres/epic-f...  dir57/5533041-assassin-s-apprentice-royal-assa...         3850  Assassin's Apprentice / Royal Assassin (Farsee...\n5683    4.56          204         NaN  good_reads:book  https://www.goodreads.com/author/show/3097905....   NaN  /genres/fantasy|/genres/young-adult|/genres/ro...                  dir57/12474623-tiger-s-dream.html          895                 Tiger's Dream (The Tiger Saga, #5)",
      "text/html": "<div>\n<style scoped>\n    .dataframe tbody tr th:only-of-type {\n        vertical-align: middle;\n    }\n\n    .dataframe tbody tr th {\n        vertical-align: top;\n    }\n\n    .dataframe thead th {\n        text-align: right;\n    }\n</style>\n<table border=\"1\" class=\"dataframe\">\n  <thead>\n    <tr style=\"text-align: right;\">\n      <th></th>\n      <th>rating</th>\n      <th>review_count</th>\n      <th>isbn</th>\n      <th>booktype</th>\n      <th>author_url</th>\n      <th>year</th>\n      <th>genre_urls</th>\n      <th>dir</th>\n      <th>rating_count</th>\n      <th>name</th>\n    </tr>\n  </thead>\n  <tbody>\n    <tr>\n      <th>2442</th>\n      <td>4.23</td>\n      <td>526</td>\n      <td>NaN</td>\n      <td>good_reads:book</td>\n      <td>https://www.goodreads.com/author/show/623606.A...</td>\n      <td>NaN</td>\n      <td>/genres/religion|/genres/islam|/genres/non-fic...</td>\n      <td>dir25/1301625.La_Tahzan.html</td>\n      <td>4134</td>\n      <td>La Tahzan</td>\n    </tr>\n    <tr>\n      <th>2869</th>\n      <td>4.61</td>\n      <td>2</td>\n      <td>NaN</td>\n      <td>good_reads:book</td>\n      <td>https://www.goodreads.com/author/show/8182217....</td>\n      <td>NaN</td>\n      <td>NaN</td>\n      <td>dir29/22031070-my-death-experiences---a-preach...</td>\n      <td>23</td>\n      <td>My Death Experiences - A Preacherâs 18 Apoca...</td>\n    </tr>\n    <tr>\n      <th>3643</th>\n      <td>NaN</td>\n      <td>None</td>\n      <td>None</td>\n      <td>None</td>\n      <td>None</td>\n      <td>NaN</td>\n      <td>NaN</td>\n      <td>dir37/9658936-harry-potter.html</td>\n      <td>None</td>\n      <td>None</td>\n    </tr>\n    <tr>\n      <th>5282</th>\n      <td>NaN</td>\n      <td>None</td>\n      <td>None</td>\n      <td>None</td>\n      <td>None</td>\n      <td>NaN</td>\n      <td>NaN</td>\n      <td>dir53/113138.The_Winner.html</td>\n      <td>None</td>\n      <td>None</td>\n    </tr>\n    <tr>\n      <th>5572</th>\n      <td>3.71</td>\n      <td>35</td>\n      <td>8423336603</td>\n      <td>good_reads:book</td>\n      <td>https://www.goodreads.com/author/show/285658.E...</td>\n      <td>NaN</td>\n      <td>/genres/fiction</td>\n      <td>dir56/890680._rase_una_vez_el_amor_pero_tuve_q...</td>\n      <td>403</td>\n      <td>Ãrase una vez el amor pero tuve que matarlo. ...</td>\n    </tr>\n    <tr>\n      <th>5658</th>\n      <td>4.32</td>\n      <td>44</td>\n      <td>NaN</td>\n      <td>good_reads:book</td>\n      <td>https://www.goodreads.com/author/show/25307.Ro...</td>\n      <td>NaN</td>\n      <td>/genres/fantasy|/genres/fantasy|/genres/epic-f...</td>\n      <td>dir57/5533041-assassin-s-apprentice-royal-assa...</td>\n      <td>3850</td>\n      <td>Assassin's Apprentice / Royal Assassin (Farsee...</td>\n    </tr>\n    <tr>\n      <th>5683</th>\n      <td>4.56</td>\n      <td>204</td>\n      <td>NaN</td>\n      <td>good_reads:book</td>\n      <td>https://www.goodreads.com/author/show/3097905....</td>\n      <td>NaN</td>\n      <td>/genres/fantasy|/genres/young-adult|/genres/ro...</td>\n      <td>dir57/12474623-tiger-s-dream.html</td>\n      <td>895</td>\n      <td>Tiger's Dream (The Tiger Saga, #5)</td>\n    </tr>\n  </tbody>\n</table>\n</div>"
     },
     "metadata": {},
     "execution_count": 36
    }
   ],
   "source": [
    "df[df.year.isnull()] # this might cause errors, so watch out for NaN/None values"
   ]
  },
  {
   "cell_type": "code",
   "execution_count": 37,
   "metadata": {},
   "outputs": [
    {
     "output_type": "execute_result",
     "data": {
      "text/plain": "(5993, 10)"
     },
     "metadata": {},
     "execution_count": 37
    }
   ],
   "source": [
    "df = df[df.year.notnull()] # only using the \"clean\" data (at least for the years column)\n",
    "df.shape"
   ]
  },
  {
   "cell_type": "code",
   "execution_count": null,
   "metadata": {},
   "outputs": [],
   "source": []
  },
  {
   "cell_type": "code",
   "execution_count": 38,
   "metadata": {},
   "outputs": [
    {
     "output_type": "execute_result",
     "data": {
      "text/plain": "rating          float64\nreview_count     object\nisbn             object\nbooktype         object\nauthor_url       object\nyear            float64\ngenre_urls       object\ndir              object\nrating_count     object\nname             object\ndtype: object"
     },
     "metadata": {},
     "execution_count": 38
    }
   ],
   "source": [
    "df.dtypes"
   ]
  },
  {
   "cell_type": "code",
   "execution_count": 39,
   "metadata": {},
   "outputs": [],
   "source": [
    "df['rating_count'] = df.rating_count.astype(int)\n",
    "df['review_count'] = df.review_count.astype(int)\n",
    "df['year'] = df.year.astype(int)"
   ]
  },
  {
   "cell_type": "code",
   "execution_count": 40,
   "metadata": {},
   "outputs": [
    {
     "output_type": "execute_result",
     "data": {
      "text/plain": "rating          float64\nreview_count      int64\nisbn             object\nbooktype         object\nauthor_url       object\nyear              int64\ngenre_urls       object\ndir              object\nrating_count      int64\nname             object\ndtype: object"
     },
     "metadata": {},
     "execution_count": 40
    }
   ],
   "source": [
    "df.dtypes"
   ]
  },
  {
   "cell_type": "code",
   "execution_count": null,
   "metadata": {},
   "outputs": [],
   "source": []
  }
 ]
}